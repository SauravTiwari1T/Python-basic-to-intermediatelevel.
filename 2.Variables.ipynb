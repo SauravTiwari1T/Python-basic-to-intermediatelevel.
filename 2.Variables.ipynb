{
 "cells": [
  {
   "cell_type": "markdown",
   "metadata": {},
   "source": [
    "### Variables"
   ]
  },
  {
   "cell_type": "code",
   "execution_count": 2,
   "metadata": {},
   "outputs": [
    {
     "name": "stdout",
     "output_type": "stream",
     "text": [
      "Age : 32 Name : Saurav is_Student : True\n"
     ]
    }
   ],
   "source": [
    "## declaring and Assigning variables \n",
    "age = 32\n",
    "height = 6.1\n",
    "name = \"krsih\"\n",
    "is_Student = True\n",
    "\n",
    "#printing variables \n",
    "print(\"Age :\" ,age, \"Name :\",name,\"is_Student :\",is_Student)"
   ]
  },
  {
   "cell_type": "code",
   "execution_count": 4,
   "metadata": {},
   "outputs": [
    {
     "ename": "SyntaxError",
     "evalue": "invalid decimal literal (2440388848.py, line 11)",
     "output_type": "error",
     "traceback": [
      "\u001b[1;36m  Cell \u001b[1;32mIn[4], line 11\u001b[1;36m\u001b[0m\n\u001b[1;33m    2age = 64\u001b[0m\n\u001b[1;37m    ^\u001b[0m\n\u001b[1;31mSyntaxError\u001b[0m\u001b[1;31m:\u001b[0m invalid decimal literal\n"
     ]
    }
   ],
   "source": [
    "#Naming conventions\n",
    "## It should descriptive \n",
    "## They should start with letter or _ , they can contains letter , number and underScore \n",
    "## variables are case sensitive\n",
    "\n",
    "# Example of vaild_varibale name \n",
    "first_name = \"Saurav\"\n",
    "last_name = \"Tiwari\"\n",
    "\n",
    "# Example of invaild_varibale name \n",
    "2age = 64\n",
    "last-name = \" Tiwari\"  ## - this is invaild"
   ]
  },
  {
   "cell_type": "code",
   "execution_count": 12,
   "metadata": {},
   "outputs": [
    {
     "name": "stdout",
     "output_type": "stream",
     "text": [
      "<class 'int'>\n",
      "<class 'str'>\n",
      "<class 'float'>\n",
      "<class 'bool'>\n"
     ]
    }
   ],
   "source": [
    "# In python data type is determind at runtime\n",
    "age = 25 #int\n",
    "height  = 4.5 #float \n",
    "name = \"Krish\" #string \n",
    "is_Student = True #boolean\n",
    "print(type(age))\n",
    "print(type(name))\n",
    "print(type(height))\n",
    "print(type(is_Student))"
   ]
  },
  {
   "cell_type": "markdown",
   "metadata": {},
   "source": [
    "### Type checking and conversion "
   ]
  },
  {
   "cell_type": "code",
   "execution_count": 19,
   "metadata": {},
   "outputs": [
    {
     "name": "stdout",
     "output_type": "stream",
     "text": [
      "<class 'float'>\n",
      "25.0\n"
     ]
    }
   ],
   "source": [
    "age = 25\n",
    "type(age)\n",
    "# Type conversion  using type casting\n",
    "age_float = float(age)\n",
    "type (age_float)\n",
    "print(type(age_float))\n",
    "print(age_float)"
   ]
  },
  {
   "cell_type": "code",
   "execution_count": 22,
   "metadata": {},
   "outputs": [
    {
     "name": "stdout",
     "output_type": "stream",
     "text": [
      "<class 'int'>\n",
      "<class 'float'>\n"
     ]
    }
   ],
   "source": [
    "# Example of typecasting \n",
    "age = 65 \n",
    "print(type(age))\n",
    "# data type of age is int \n",
    "# lets change to float \n",
    "new_age = float(age)\n",
    "print(type(new_age))"
   ]
  },
  {
   "cell_type": "code",
   "execution_count": 24,
   "metadata": {},
   "outputs": [
    {
     "name": "stdout",
     "output_type": "stream",
     "text": [
      "24 <class 'int'>\n",
      "Saurav <class 'str'>\n",
      "True <class 'bool'>\n"
     ]
    }
   ],
   "source": [
    "# Dynamic changing type \n",
    "variable = 24 \n",
    "print(variable , type(variable))\n",
    "variable = \"Saurav\"\n",
    "print(variable , type(variable))\n",
    "variable = True\n",
    "print(variable , type(variable))"
   ]
  },
  {
   "cell_type": "markdown",
   "metadata": {},
   "source": [
    "### Input \n"
   ]
  },
  {
   "cell_type": "code",
   "execution_count": 27,
   "metadata": {},
   "outputs": [
    {
     "name": "stdout",
     "output_type": "stream",
     "text": [
      "\n"
     ]
    }
   ],
   "source": [
    "age = input('What is your age')\n",
    "print(age)"
   ]
  },
  {
   "cell_type": "code",
   "execution_count": 29,
   "metadata": {},
   "outputs": [
    {
     "name": "stdout",
     "output_type": "stream",
     "text": [
      "34\n"
     ]
    }
   ],
   "source": [
    "age = int(input('What is your age'))\n",
    "print(age)"
   ]
  },
  {
   "cell_type": "markdown",
   "metadata": {},
   "source": [
    "### Simple Calculator"
   ]
  },
  {
   "cell_type": "code",
   "execution_count": 30,
   "metadata": {},
   "outputs": [
    {
     "name": "stdout",
     "output_type": "stream",
     "text": [
      "80.23 -11.11 1578.3552000000002 0.7567330851762645\n"
     ]
    }
   ],
   "source": [
    "number1 = float(input('Enter the number'))\n",
    "number2 = float(input('Enter the second number'))\n",
    "sum = number1 + number2\n",
    "minus = number1 - number2\n",
    "product  = number1* number2\n",
    "quotient = number1/number2\n",
    "print(sum , minus , product, quotient)"
   ]
  },
  {
   "cell_type": "code",
   "execution_count": null,
   "metadata": {},
   "outputs": [],
   "source": [
    " "
   ]
  }
 ],
 "metadata": {
  "kernelspec": {
   "display_name": "Python 3",
   "language": "python",
   "name": "python3"
  },
  "language_info": {
   "codemirror_mode": {
    "name": "ipython",
    "version": 3
   },
   "file_extension": ".py",
   "mimetype": "text/x-python",
   "name": "python",
   "nbconvert_exporter": "python",
   "pygments_lexer": "ipython3",
   "version": "3.12.7"
  }
 },
 "nbformat": 4,
 "nbformat_minor": 2
}
