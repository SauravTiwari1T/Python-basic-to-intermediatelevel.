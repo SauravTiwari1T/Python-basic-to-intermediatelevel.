{
 "cells": [
  {
   "cell_type": "markdown",
   "metadata": {},
   "source": [
    "## Operators in python "
   ]
  },
  {
   "cell_type": "markdown",
   "metadata": {},
   "source": [
    "## Arthmetic operators \n",
    "#### Addition\n",
    "#### Subtraction\n",
    "#### Multiplication\n",
    "#### Division\n",
    "#### Floor Division \n",
    "#### Modulud\n",
    "#### Exponention\n",
    "\n",
    "\n",
    "## Comparison Operators \n",
    "#### Equal to \n",
    "#### Not Equal to\n",
    "#### Greater then or equal to \n",
    "#### Less than or equal to \n",
    "\n",
    "## Logical Operators\n",
    "#### ANd \n",
    "#### OR \n",
    "#### NOT\n"
   ]
  },
  {
   "cell_type": "code",
   "execution_count": 2,
   "metadata": {},
   "outputs": [
    {
     "name": "stdout",
     "output_type": "stream",
     "text": [
      "9\n",
      "-1\n",
      "20\n",
      "0.8\n",
      "0\n",
      "1024\n"
     ]
    }
   ],
   "source": [
    "a = 4; b = 5\n",
    "add = a+b # addition \n",
    "sub = a-b  #subtraction\n",
    "multi = a*b # multiplication \n",
    "div = a/b # division\n",
    "floor_div = a//b #floor division\n",
    "exponent = a**b #Exponentition \n",
    "print (add); print (sub) ; print(multi); print(div); print(floor_div); print(exponent)"
   ]
  },
  {
   "cell_type": "markdown",
   "metadata": {},
   "source": [
    "### Comparison Operators \n"
   ]
  },
  {
   "cell_type": "code",
   "execution_count": 3,
   "metadata": {},
   "outputs": [
    {
     "name": "stdout",
     "output_type": "stream",
     "text": [
      "True\n"
     ]
    }
   ],
   "source": [
    "# ==  Equal to \n",
    "a = 10 ; b = 10\n",
    "result = a == b\n",
    "print(result)"
   ]
  },
  {
   "cell_type": "code",
   "execution_count": 5,
   "metadata": {},
   "outputs": [
    {
     "name": "stdout",
     "output_type": "stream",
     "text": [
      "False\n"
     ]
    }
   ],
   "source": [
    "# greater than \n",
    "a =45 ;  b = 45\n",
    "result = a>b\n",
    "print(result)"
   ]
  },
  {
   "cell_type": "code",
   "execution_count": 11,
   "metadata": {},
   "outputs": [
    {
     "name": "stdout",
     "output_type": "stream",
     "text": [
      "True\n",
      "False\n"
     ]
    },
    {
     "data": {
      "text/plain": [
       "False"
      ]
     },
     "execution_count": 11,
     "metadata": {},
     "output_type": "execute_result"
    }
   ],
   "source": [
    "### Logical Operators \n",
    "## and \n",
    "a = True \n",
    "b = True \n",
    "result = a and b\n",
    "print(result)\n",
    "\n",
    "## or\n",
    "a = False \n",
    "b = False\n",
    "result =  a or b\n",
    "print(result)\n",
    "## not\n",
    "a = True \n",
    "not a \n",
    "\n"
   ]
  },
  {
   "cell_type": "markdown",
   "metadata": {},
   "source": [
    "### Simple calculator"
   ]
  },
  {
   "cell_type": "code",
   "execution_count": 12,
   "metadata": {},
   "outputs": [
    {
     "name": "stdout",
     "output_type": "stream",
     "text": [
      "38.17 -30.83 126.615 0.1063768115942029\n"
     ]
    }
   ],
   "source": [
    "number1 = float(input('Enter the number'))\n",
    "number2 = float(input('Enter the second number'))\n",
    "sum = number1 + number2\n",
    "minus = number1 - number2\n",
    "product  = number1* number2\n",
    "quotient = number1/number2\n",
    "print(sum , minus , product, quotient)"
   ]
  }
 ],
 "metadata": {
  "kernelspec": {
   "display_name": "Python 3",
   "language": "python",
   "name": "python3"
  },
  "language_info": {
   "codemirror_mode": {
    "name": "ipython",
    "version": 3
   },
   "file_extension": ".py",
   "mimetype": "text/x-python",
   "name": "python",
   "nbconvert_exporter": "python",
   "pygments_lexer": "ipython3",
   "version": "3.12.7"
  }
 },
 "nbformat": 4,
 "nbformat_minor": 2
}
