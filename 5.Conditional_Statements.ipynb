{
 "cells": [
  {
   "cell_type": "markdown",
   "metadata": {},
   "source": [
    "#### Conditional Statements (if , elif , else, nested conditional statemnets)"
   ]
  },
  {
   "cell_type": "code",
   "execution_count": 4,
   "metadata": {},
   "outputs": [
    {
     "name": "stdout",
     "output_type": "stream",
     "text": [
      "You are not allowed to vote\n"
     ]
    }
   ],
   "source": [
    "## if else statment \n",
    "age = 16\n",
    "if age >= 18:\n",
    "    print('You are allowed to vote in election')\n",
    "else :\n",
    "    print('You are not allowed to vote')"
   ]
  },
  {
   "cell_type": "code",
   "execution_count": 6,
   "metadata": {},
   "outputs": [
    {
     "name": "stdout",
     "output_type": "stream",
     "text": [
      "teenager\n"
     ]
    }
   ],
   "source": [
    "## elif allows to check for multipul condtions \n",
    "age = 16\n",
    "if age < 13:\n",
    "    print('Child')\n",
    "elif age < 18:\n",
    "    print('teenager')\n",
    "else:\n",
    "    print('adult')"
   ]
  },
  {
   "cell_type": "code",
   "execution_count": 8,
   "metadata": {},
   "outputs": [
    {
     "name": "stdout",
     "output_type": "stream",
     "text": [
      "The number is negative\n",
      "odd\n"
     ]
    }
   ],
   "source": [
    "## Nested conditional statment\n",
    "## Number is even , odd , negative,positive\n",
    "num = int(input('Enter the number'))\n",
    "if num >=0:\n",
    "    print('The number is positive')\n",
    "    if num%2==0:\n",
    "        print('The number is even')\n",
    "    else:\n",
    "        print('The number is odd')\n",
    "else:\n",
    "    print('The number is negative')\n",
    "    if num%2==0:\n",
    "        print('Even')\n",
    "    else:\n",
    "        print('odd')"
   ]
  },
  {
   "cell_type": "code",
   "execution_count": 18,
   "metadata": {},
   "outputs": [
    {
     "name": "stdout",
     "output_type": "stream",
     "text": [
      "It is a  leap year\n"
     ]
    }
   ],
   "source": [
    "# Determine if a year is leap year or not \n",
    "year = int(input('Enter the year'))\n",
    "if year % 4 == 0:\n",
    "    if year % 100 == 0:\n",
    "       if year % 400 ==0:\n",
    "           print(\"It is leap year\")\n",
    "       else:\n",
    "           print(\"It is not a leap year\")\n",
    "    else:\n",
    "        print('It is a  leap year')\n",
    "    "
   ]
  },
  {
   "cell_type": "markdown",
   "metadata": {},
   "source": [
    "## Simple calculator "
   ]
  },
  {
   "cell_type": "code",
   "execution_count": 20,
   "metadata": {},
   "outputs": [
    {
     "name": "stdout",
     "output_type": "stream",
     "text": [
      "23.0 - 34.0\n",
      "-11.0\n"
     ]
    }
   ],
   "source": [
    "number1 = float(input('Enter the 1st number'))\n",
    "number2 = float(input('Enter the  2nd number'))\n",
    "operation = input('Enter the operation(+ , - , * , /):')\n",
    "print(number1,operation,number2)\n",
    "\n",
    "if operation == \"+\":\n",
    "    result = number1+number2\n",
    "elif operation == \"-\":\n",
    "    result = number1 - number2\n",
    "elif operation == \"*\":\n",
    "    result = number1*number2\n",
    "elif operation == \"/\":\n",
    "    result = number1/number2\n",
    "else:\n",
    "    result = \"Invalid opration\"\n",
    "print(result)   "
   ]
  },
  {
   "cell_type": "code",
   "execution_count": 25,
   "metadata": {},
   "outputs": [
    {
     "name": "stdout",
     "output_type": "stream",
     "text": [
      "25\n"
     ]
    }
   ],
   "source": [
    "## Determin the ticket price based on age and if it is student or not \n",
    "age = int(input ('Enter the age '))\n",
    "isStudent = (input('Yes / No')).lower()\n",
    "if age < 5 :\n",
    "    price = 0\n",
    "elif age <=12:\n",
    "    price = 12\n",
    "elif age <=17:\n",
    "    if isStudent == \"Yes\":\n",
    "        price = 12\n",
    "    else :\n",
    "        price = 25\n",
    "else:\n",
    "    price = 25\n",
    "print(price)"
   ]
  }
 ],
 "metadata": {
  "kernelspec": {
   "display_name": "Python 3",
   "language": "python",
   "name": "python3"
  },
  "language_info": {
   "codemirror_mode": {
    "name": "ipython",
    "version": 3
   },
   "file_extension": ".py",
   "mimetype": "text/x-python",
   "name": "python",
   "nbconvert_exporter": "python",
   "pygments_lexer": "ipython3",
   "version": "3.12.7"
  }
 },
 "nbformat": 4,
 "nbformat_minor": 2
}
